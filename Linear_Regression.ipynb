{
  "nbformat": 4,
  "nbformat_minor": 0,
  "metadata": {
    "colab": {
      "name": "Untitled12.ipynb",
      "provenance": [],
      "collapsed_sections": [],
      "authorship_tag": "ABX9TyOdcyCUnmTTp2aksg6VeXxA",
      "include_colab_link": true
    },
    "kernelspec": {
      "name": "python3",
      "display_name": "Python 3"
    }
  },
  "cells": [
    {
      "cell_type": "markdown",
      "metadata": {
        "id": "view-in-github",
        "colab_type": "text"
      },
      "source": [
        "<a href=\"https://colab.research.google.com/github/hamzaboufikr/hamza/blob/master/Linear_Regression.ipynb\" target=\"_parent\"><img src=\"https://colab.research.google.com/assets/colab-badge.svg\" alt=\"Open In Colab\"/></a>"
      ]
    },
    {
      "cell_type": "code",
      "metadata": {
        "id": "QDJmU61Wt9qg",
        "colab_type": "code",
        "colab": {}
      },
      "source": [
        "import numpy as np\n",
        "from sklearn.linear_model import LinearRegression"
      ],
      "execution_count": 0,
      "outputs": []
    },
    {
      "cell_type": "code",
      "metadata": {
        "id": "l7vBqHk2uO38",
        "colab_type": "code",
        "colab": {}
      },
      "source": [
        "x=np.array([5,15,25,35,45,55]).reshape((-1,1))\n",
        "y=np.array([5,20,14,32,22,38])"
      ],
      "execution_count": 0,
      "outputs": []
    },
    {
      "cell_type": "code",
      "metadata": {
        "id": "LZuSZ26pusxR",
        "colab_type": "code",
        "colab": {
          "base_uri": "https://localhost:8080/",
          "height": 141
        },
        "outputId": "ab3ca11b-531b-4b98-812d-7278f8c9306a"
      },
      "source": [
        "print(x)\n",
        "print(y)"
      ],
      "execution_count": 3,
      "outputs": [
        {
          "output_type": "stream",
          "text": [
            "[[ 5]\n",
            " [15]\n",
            " [25]\n",
            " [35]\n",
            " [45]\n",
            " [55]]\n",
            "[ 5 20 14 32 22 38]\n"
          ],
          "name": "stdout"
        }
      ]
    },
    {
      "cell_type": "code",
      "metadata": {
        "id": "MbfSXNi8uy8V",
        "colab_type": "code",
        "colab": {
          "base_uri": "https://localhost:8080/",
          "height": 34
        },
        "outputId": "fb10f491-fa36-4604-fd12-0dea64d248d4"
      },
      "source": [
        "model=LinearRegression()\n",
        "model.fit(x,y)"
      ],
      "execution_count": 4,
      "outputs": [
        {
          "output_type": "execute_result",
          "data": {
            "text/plain": [
              "LinearRegression(copy_X=True, fit_intercept=True, n_jobs=None, normalize=False)"
            ]
          },
          "metadata": {
            "tags": []
          },
          "execution_count": 4
        }
      ]
    },
    {
      "cell_type": "code",
      "metadata": {
        "id": "tUoNzEzivBz5",
        "colab_type": "code",
        "colab": {}
      },
      "source": [
        "model=LinearRegression().fit(x,y)\n",
        "#la même chose que model=LinearRegression() + model.fit(x,y)"
      ],
      "execution_count": 0,
      "outputs": []
    },
    {
      "cell_type": "code",
      "metadata": {
        "id": "Xvd4fmWxvKuO",
        "colab_type": "code",
        "colab": {}
      },
      "source": [
        "r_sq=model.score(x,y)"
      ],
      "execution_count": 0,
      "outputs": []
    },
    {
      "cell_type": "code",
      "metadata": {
        "id": "0agfiS3yvijC",
        "colab_type": "code",
        "colab": {
          "base_uri": "https://localhost:8080/",
          "height": 34
        },
        "outputId": "4b47c481-d6ef-467c-ebee-a9985bef8276"
      },
      "source": [
        "print('coefficient of determination: R²',r_sq)"
      ],
      "execution_count": 9,
      "outputs": [
        {
          "output_type": "stream",
          "text": [
            "coefficient of determination: R² 0.7158756137479542\n"
          ],
          "name": "stdout"
        }
      ]
    },
    {
      "cell_type": "code",
      "metadata": {
        "id": "vY4K5MZIv9Qn",
        "colab_type": "code",
        "colab": {
          "base_uri": "https://localhost:8080/",
          "height": 52
        },
        "outputId": "ef45e068-35c2-4daf-f177-043cf763f6be"
      },
      "source": [
        "print('intercept:',model.intercept_)\n",
        "print('slope:',model.coef_)"
      ],
      "execution_count": 11,
      "outputs": [
        {
          "output_type": "stream",
          "text": [
            "intercept: 5.633333333333329\n",
            "slope: [0.54]\n"
          ],
          "name": "stdout"
        }
      ]
    },
    {
      "cell_type": "code",
      "metadata": {
        "id": "oRPlJo1_x-vT",
        "colab_type": "code",
        "colab": {
          "base_uri": "https://localhost:8080/",
          "height": 52
        },
        "outputId": "2a04afd0-fb80-4146-bd83-b3c38ba07387"
      },
      "source": [
        "y_pred=model.predict(x)\n",
        "print('predicted response:',y_pred,sep='\\n')"
      ],
      "execution_count": 12,
      "outputs": [
        {
          "output_type": "stream",
          "text": [
            "predicted response:\n",
            "[ 8.33333333 13.73333333 19.13333333 24.53333333 29.93333333 35.33333333]\n"
          ],
          "name": "stdout"
        }
      ]
    },
    {
      "cell_type": "code",
      "metadata": {
        "id": "s_SuUzVM03a2",
        "colab_type": "code",
        "colab": {
          "base_uri": "https://localhost:8080/",
          "height": 141
        },
        "outputId": "3af30167-5e46-464d-ac53-81ce2e86a016"
      },
      "source": [
        "y_pred=model.intercept_+model.coef_*x\n",
        "print('predicted response:',y_pred,sep='\\n')"
      ],
      "execution_count": 16,
      "outputs": [
        {
          "output_type": "stream",
          "text": [
            "predicted response:\n",
            "[[ 8.33333333]\n",
            " [13.73333333]\n",
            " [19.13333333]\n",
            " [24.53333333]\n",
            " [29.93333333]\n",
            " [35.33333333]]\n"
          ],
          "name": "stdout"
        }
      ]
    },
    {
      "cell_type": "code",
      "metadata": {
        "id": "-NMcgy3429dR",
        "colab_type": "code",
        "colab": {
          "base_uri": "https://localhost:8080/",
          "height": 105
        },
        "outputId": "d920ef00-d900-4d6d-c1b7-c11bff2c7235"
      },
      "source": [
        "x_new = np.arange(5).reshape((-1, 1))\n",
        "print(x_new)"
      ],
      "execution_count": 15,
      "outputs": [
        {
          "output_type": "stream",
          "text": [
            "[[0]\n",
            " [1]\n",
            " [2]\n",
            " [3]\n",
            " [4]]\n"
          ],
          "name": "stdout"
        }
      ]
    },
    {
      "cell_type": "code",
      "metadata": {
        "id": "iN6GT8kw-f8w",
        "colab_type": "code",
        "colab": {
          "base_uri": "https://localhost:8080/",
          "height": 34
        },
        "outputId": "92f6f61d-8ad0-40c9-8869-0614b9fcfbd7"
      },
      "source": [
        "y_new = model.predict(x_new)\n",
        "print(y_new)"
      ],
      "execution_count": 18,
      "outputs": [
        {
          "output_type": "stream",
          "text": [
            "[5.63333333 6.17333333 6.71333333 7.25333333 7.79333333]\n"
          ],
          "name": "stdout"
        }
      ]
    }
  ]
}