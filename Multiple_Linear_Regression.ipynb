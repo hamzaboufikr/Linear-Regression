{
  "nbformat": 4,
  "nbformat_minor": 0,
  "metadata": {
    "colab": {
      "name": "Untitled13.ipynb",
      "provenance": [],
      "authorship_tag": "ABX9TyOooRm4xKLeTlKK7wOD4B0s",
      "include_colab_link": true
    },
    "kernelspec": {
      "name": "python3",
      "display_name": "Python 3"
    }
  },
  "cells": [
    {
      "cell_type": "markdown",
      "metadata": {
        "id": "view-in-github",
        "colab_type": "text"
      },
      "source": [
        "<a href=\"https://colab.research.google.com/github/hamzaboufikr/hamza/blob/master/Multiple_Linear_Regression.ipynb\" target=\"_parent\"><img src=\"https://colab.research.google.com/assets/colab-badge.svg\" alt=\"Open In Colab\"/></a>"
      ]
    },
    {
      "cell_type": "code",
      "metadata": {
        "id": "SHxicE0VT_wD",
        "colab_type": "code",
        "colab": {}
      },
      "source": [
        "import numpy as np\n",
        "from sklearn.linear_model import LinearRegression\n",
        "from sklearn.preprocessing import PolynomialFeatures"
      ],
      "execution_count": 0,
      "outputs": []
    },
    {
      "cell_type": "code",
      "metadata": {
        "id": "Vexu-3StawsO",
        "colab_type": "code",
        "colab": {}
      },
      "source": [
        "x = np.array([5, 15, 25, 35, 45, 55]).reshape((-1, 1))\n",
        "y = np.array([15, 11, 2, 8, 25, 32])"
      ],
      "execution_count": 0,
      "outputs": []
    },
    {
      "cell_type": "code",
      "metadata": {
        "id": "9NADSCVTbyDY",
        "colab_type": "code",
        "colab": {}
      },
      "source": [
        "transformer = PolynomialFeatures(degree=2, include_bias=False)"
      ],
      "execution_count": 0,
      "outputs": []
    },
    {
      "cell_type": "code",
      "metadata": {
        "id": "OUnaaVz_b-aV",
        "colab_type": "code",
        "colab": {
          "base_uri": "https://localhost:8080/",
          "height": 52
        },
        "outputId": "ea38c872-bffc-4351-ac67-7992954c42ff"
      },
      "source": [
        "transformer.fit(x)"
      ],
      "execution_count": 4,
      "outputs": [
        {
          "output_type": "execute_result",
          "data": {
            "text/plain": [
              "PolynomialFeatures(degree=2, include_bias=False, interaction_only=False,\n",
              "                   order='C')"
            ]
          },
          "metadata": {
            "tags": []
          },
          "execution_count": 4
        }
      ]
    },
    {
      "cell_type": "code",
      "metadata": {
        "id": "gkkPdkOacVOC",
        "colab_type": "code",
        "colab": {}
      },
      "source": [
        "x_ = transformer.transform(x)"
      ],
      "execution_count": 0,
      "outputs": []
    },
    {
      "cell_type": "code",
      "metadata": {
        "id": "A8BvjUuvcffR",
        "colab_type": "code",
        "colab": {}
      },
      "source": [
        "x_ = PolynomialFeatures(degree=2, include_bias=False).fit_transform(x)"
      ],
      "execution_count": 0,
      "outputs": []
    },
    {
      "cell_type": "code",
      "metadata": {
        "id": "8Qz9ROZ2cluP",
        "colab_type": "code",
        "colab": {
          "base_uri": "https://localhost:8080/",
          "height": 123
        },
        "outputId": "ca77e575-c492-4bdb-948c-f786699a47b1"
      },
      "source": [
        "print(x_)"
      ],
      "execution_count": 7,
      "outputs": [
        {
          "output_type": "stream",
          "text": [
            "[[   5.   25.]\n",
            " [  15.  225.]\n",
            " [  25.  625.]\n",
            " [  35. 1225.]\n",
            " [  45. 2025.]\n",
            " [  55. 3025.]]\n"
          ],
          "name": "stdout"
        }
      ]
    },
    {
      "cell_type": "code",
      "metadata": {
        "id": "cclSSJW4c3Rs",
        "colab_type": "code",
        "colab": {}
      },
      "source": [
        "#Create a model and fit it\n",
        "model = LinearRegression().fit(x_, y)"
      ],
      "execution_count": 0,
      "outputs": []
    },
    {
      "cell_type": "code",
      "metadata": {
        "id": "lEWMkdC1dAr6",
        "colab_type": "code",
        "colab": {
          "base_uri": "https://localhost:8080/",
          "height": 70
        },
        "outputId": "1e64580b-0adc-42aa-c16f-e0b5182310b1"
      },
      "source": [
        "#You can obtain the properties of the model the same way as in the case of linear regression:\n",
        "r_sq = model.score(x_, y)\n",
        "print('coefficient of determination:', r_sq)\n",
        "print('intercept:', model.intercept_)\n",
        "print('coefficients:', model.coef_)"
      ],
      "execution_count": 9,
      "outputs": [
        {
          "output_type": "stream",
          "text": [
            "coefficient of determination: 0.8908516262498564\n",
            "intercept: 21.37232142857144\n",
            "coefficients: [-1.32357143  0.02839286]\n"
          ],
          "name": "stdout"
        }
      ]
    },
    {
      "cell_type": "code",
      "metadata": {
        "id": "fCWjSCFQdZAd",
        "colab_type": "code",
        "colab": {}
      },
      "source": [
        "#If you call PolynomialFeatures with the default parameter include_bias=True (or if you just omit it),\n",
        "#you’ll obtain the new input array x_ with the additional leftmost column containing only ones.\n",
        "#This column corresponds to the intercept. This is how the modified input array looks in this case:\n",
        "x_ = PolynomialFeatures(degree=2, include_bias=True).fit_transform(x)"
      ],
      "execution_count": 0,
      "outputs": []
    },
    {
      "cell_type": "code",
      "metadata": {
        "id": "SzN5S23idsAa",
        "colab_type": "code",
        "colab": {
          "base_uri": "https://localhost:8080/",
          "height": 123
        },
        "outputId": "48aa537a-628c-459f-8648-b238e21c71e3"
      },
      "source": [
        "print(x_)"
      ],
      "execution_count": 12,
      "outputs": [
        {
          "output_type": "stream",
          "text": [
            "[[1.000e+00 5.000e+00 2.500e+01]\n",
            " [1.000e+00 1.500e+01 2.250e+02]\n",
            " [1.000e+00 2.500e+01 6.250e+02]\n",
            " [1.000e+00 3.500e+01 1.225e+03]\n",
            " [1.000e+00 4.500e+01 2.025e+03]\n",
            " [1.000e+00 5.500e+01 3.025e+03]]\n"
          ],
          "name": "stdout"
        }
      ]
    },
    {
      "cell_type": "code",
      "metadata": {
        "id": "IL308Iy7fbou",
        "colab_type": "code",
        "colab": {}
      },
      "source": [
        "model = LinearRegression(fit_intercept=False).fit(x_, y)"
      ],
      "execution_count": 0,
      "outputs": []
    },
    {
      "cell_type": "code",
      "metadata": {
        "id": "RXxaiO4Lfezs",
        "colab_type": "code",
        "colab": {
          "base_uri": "https://localhost:8080/",
          "height": 70
        },
        "outputId": "691af4c9-5924-4a4a-de4a-989f51038325"
      },
      "source": [
        "r_sq = model.score(x_, y)\n",
        "print('coefficient of determination:', r_sq)\n",
        "print('intercept:', model.intercept_)\n",
        "print('coefficients:', model.coef_)"
      ],
      "execution_count": 14,
      "outputs": [
        {
          "output_type": "stream",
          "text": [
            "coefficient of determination: 0.8908516262498564\n",
            "intercept: 0.0\n",
            "coefficients: [21.37232143 -1.32357143  0.02839286]\n"
          ],
          "name": "stdout"
        }
      ]
    },
    {
      "cell_type": "code",
      "metadata": {
        "id": "IGGqnbw0f2Sd",
        "colab_type": "code",
        "colab": {
          "base_uri": "https://localhost:8080/",
          "height": 52
        },
        "outputId": "4e3adc54-3802-4d19-d212-63ea59cfbd96"
      },
      "source": [
        "# Predict response\n",
        "y_pred = model.predict(x_)\n",
        "print('predicted response:', y_pred, sep='\\n')"
      ],
      "execution_count": 15,
      "outputs": [
        {
          "output_type": "stream",
          "text": [
            "predicted response:\n",
            "[15.46428571  7.90714286  6.02857143  9.82857143 19.30714286 34.46428571]\n"
          ],
          "name": "stdout"
        }
      ]
    },
    {
      "cell_type": "code",
      "metadata": {
        "id": "Is-YU9aJhZk8",
        "colab_type": "code",
        "colab": {}
      },
      "source": [
        "#You can apply the identical procedure if you have several input variables. \n",
        "#You’ll have an input array with more than one column, but everything else is the same. Here is an example:\n",
        "# Step 1: Import packages\n",
        "import numpy as np\n",
        "from sklearn.linear_model import LinearRegression\n",
        "from sklearn.preprocessing import PolynomialFeatures\n",
        "\n",
        "# Step 2a: Provide data\n",
        "x = [[0, 1], [5, 1], [15, 2], [25, 5], [35, 11], [45, 15], [55, 34], [60, 35]]\n",
        "y = [4, 5, 20, 14, 32, 22, 38, 43]\n",
        "x, y = np.array(x), np.array(y)\n",
        "\n",
        "# Step 2b: Transform input data\n",
        "x_ = PolynomialFeatures(degree=2, include_bias=False).fit_transform(x)\n",
        "\n",
        "# Step 3: Create a model and fit it\n",
        "model = LinearRegression().fit(x_, y)\n",
        "\n",
        "# Step 4: Get results\n",
        "r_sq = model.score(x_, y)\n",
        "intercept, coefficients = model.intercept_, model.coef_\n",
        "\n",
        "# Step 5: Predict\n",
        "y_pred = model.predict(x_)\n"
      ],
      "execution_count": 0,
      "outputs": []
    },
    {
      "cell_type": "code",
      "metadata": {
        "id": "E4fOSGpphoa6",
        "colab_type": "code",
        "colab": {
          "base_uri": "https://localhost:8080/",
          "height": 34
        },
        "outputId": "715be299-cc62-4134-9293-a76adadf505d"
      },
      "source": [
        "print('coefficient of determination:', r_sq)\n"
      ],
      "execution_count": 18,
      "outputs": [
        {
          "output_type": "stream",
          "text": [
            "coefficient of determination: 0.9453701449127822\n"
          ],
          "name": "stdout"
        }
      ]
    },
    {
      "cell_type": "code",
      "metadata": {
        "id": "NwDRqVnhhq5-",
        "colab_type": "code",
        "colab": {
          "base_uri": "https://localhost:8080/",
          "height": 34
        },
        "outputId": "74aa9943-0e7c-483c-d152-4a64076e1e40"
      },
      "source": [
        "print('intercept:', intercept)"
      ],
      "execution_count": 19,
      "outputs": [
        {
          "output_type": "stream",
          "text": [
            "intercept: 0.8430556452395876\n"
          ],
          "name": "stdout"
        }
      ]
    },
    {
      "cell_type": "code",
      "metadata": {
        "id": "unJcE15nhth2",
        "colab_type": "code",
        "colab": {
          "base_uri": "https://localhost:8080/",
          "height": 52
        },
        "outputId": "e95df41a-e53a-40d5-c271-74284db4f26e"
      },
      "source": [
        "print('coefficients:', coefficients, sep='\\n')"
      ],
      "execution_count": 20,
      "outputs": [
        {
          "output_type": "stream",
          "text": [
            "coefficients:\n",
            "[ 2.44828275  0.16160353 -0.15259677  0.47928683 -0.4641851 ]\n"
          ],
          "name": "stdout"
        }
      ]
    },
    {
      "cell_type": "code",
      "metadata": {
        "id": "fEOZ1yNHh4V_",
        "colab_type": "code",
        "colab": {
          "base_uri": "https://localhost:8080/",
          "height": 70
        },
        "outputId": "9bf3ea4f-c94a-4961-c459-8b9a1e11475a"
      },
      "source": [
        "print('predicted response:', y_pred, sep='\\n')"
      ],
      "execution_count": 21,
      "outputs": [
        {
          "output_type": "stream",
          "text": [
            "predicted response:\n",
            "[ 0.54047408 11.36340283 16.07809622 15.79139    29.73858619 23.50834636\n",
            " 39.05631386 41.92339046]\n"
          ],
          "name": "stdout"
        }
      ]
    }
  ]
}